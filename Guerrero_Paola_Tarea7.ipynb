{
 "cells": [
  {
   "cell_type": "markdown",
   "id": "523e8847-88ca-4e77-b579-d0aca00f87e2",
   "metadata": {},
   "source": [
    "# CICLO WHILE\n"
   ]
  },
  {
   "cell_type": "code",
   "execution_count": 1,
   "id": "2c107ff8-f1c8-440a-9f7b-ea2b0c83b47c",
   "metadata": {},
   "outputs": [
    {
     "data": {
      "text/plain": [
       "[200, 300, 400, 250, 345, 540]"
      ]
     },
     "execution_count": 1,
     "metadata": {},
     "output_type": "execute_result"
    }
   ],
   "source": [
    "columna = [200,300,400,250,345,540]\n",
    "columna"
   ]
  },
  {
   "cell_type": "code",
   "execution_count": 3,
   "id": "86fa5e29-33fe-4487-86d3-d8a18197cc7a",
   "metadata": {},
   "outputs": [
    {
     "data": {
      "text/plain": [
       "540"
      ]
     },
     "execution_count": 3,
     "metadata": {},
     "output_type": "execute_result"
    }
   ],
   "source": [
    "columna[5]"
   ]
  },
  {
   "cell_type": "code",
   "execution_count": 4,
   "id": "38b634ca-53cc-4e7c-9de2-85dd10a2667c",
   "metadata": {},
   "outputs": [
    {
     "data": {
      "text/plain": [
       "6"
      ]
     },
     "execution_count": 4,
     "metadata": {},
     "output_type": "execute_result"
    }
   ],
   "source": [
    "len(columna)"
   ]
  },
  {
   "cell_type": "code",
   "execution_count": 5,
   "id": "ae2ec190-105d-4068-9f3c-b508f8169cf0",
   "metadata": {},
   "outputs": [
    {
     "name": "stdout",
     "output_type": "stream",
     "text": [
      "200\n",
      "300\n",
      "400\n",
      "250\n",
      "345\n",
      "540\n"
     ]
    }
   ],
   "source": [
    "contador = 0\n",
    "\n",
    "while contador < len(columna):\n",
    "    print(columna[contador])\n",
    "    contador += 1"
   ]
  },
  {
   "cell_type": "markdown",
   "id": "eebea371-781e-44e9-a02a-b63c057fd9a6",
   "metadata": {},
   "source": [
    "# ADIVINANZA"
   ]
  },
  {
   "cell_type": "code",
   "execution_count": 7,
   "id": "68ce5869-27ff-45a2-ac3f-56be9b214646",
   "metadata": {},
   "outputs": [
    {
     "name": "stdin",
     "output_type": "stream",
     "text": [
      "Adivina el numero! 4\n"
     ]
    },
    {
     "name": "stdout",
     "output_type": "stream",
     "text": [
      "El numero secreto es mayor!!!\n"
     ]
    },
    {
     "name": "stdin",
     "output_type": "stream",
     "text": [
      "Adivina el numero! 8\n"
     ]
    },
    {
     "name": "stdout",
     "output_type": "stream",
     "text": [
      "El numero secreto es menor\n"
     ]
    },
    {
     "name": "stdin",
     "output_type": "stream",
     "text": [
      "Adivina el numero! 6\n"
     ]
    },
    {
     "name": "stdout",
     "output_type": "stream",
     "text": [
      "El numero secreto es menor\n"
     ]
    },
    {
     "name": "stdin",
     "output_type": "stream",
     "text": [
      "Adivina el numero! 5\n"
     ]
    },
    {
     "name": "stdout",
     "output_type": "stream",
     "text": [
      "Felicidades Adivinaste Nostradamus!\n"
     ]
    }
   ],
   "source": [
    "numeroSecreto = 5\n",
    "\n",
    "while True:\n",
    "    #pedir al usuario ingrese un numero\n",
    "    numeroUsuario = int(input(\"Adivina el numero!\"))\n",
    "\n",
    "    #comparar\n",
    "    if numeroUsuario == numeroSecreto:\n",
    "        print(\"Felicidades Adivinaste Nostradamus!\")\n",
    "        break\n",
    "    elif numeroUsuario < numeroSecreto:\n",
    "        print(\"El numero secreto es mayor!!!\")\n",
    "    else: \n",
    "        print(\"El numero secreto es menor\")"
   ]
  },
  {
   "cell_type": "code",
   "execution_count": null,
   "id": "e4ac0ce4-c2af-464d-a43a-d2cbbbbdad46",
   "metadata": {},
   "outputs": [],
   "source": []
  }
 ],
 "metadata": {
  "kernelspec": {
   "display_name": "Python 3 (ipykernel)",
   "language": "python",
   "name": "python3"
  },
  "language_info": {
   "codemirror_mode": {
    "name": "ipython",
    "version": 3
   },
   "file_extension": ".py",
   "mimetype": "text/x-python",
   "name": "python",
   "nbconvert_exporter": "python",
   "pygments_lexer": "ipython3",
   "version": "3.11.7"
  }
 },
 "nbformat": 4,
 "nbformat_minor": 5
}
