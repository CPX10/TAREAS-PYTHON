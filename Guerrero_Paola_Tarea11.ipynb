{
 "cells": [
  {
   "cell_type": "markdown",
   "id": "0f4c98d2-f76b-4f0d-9bf3-cd935f57fe31",
   "metadata": {},
   "source": [
    "# CLASES Y METODOS\n"
   ]
  },
  {
   "cell_type": "code",
   "execution_count": 151,
   "id": "4edfbf69-fdd9-45da-9ce3-4e801145af61",
   "metadata": {},
   "outputs": [],
   "source": [
    "class Empleado:\n",
    "    def __init__(self, \n",
    "                 numero_empleado, \n",
    "                 nombre_completo, \n",
    "                 antiguedad,\n",
    "                 ):\n",
    "        self.numero_empleado = numero_empleado\n",
    "        self.nombre_completo = nombre_completo\n",
    "        self.antiguedad = antiguedad\n",
    "    def informacion(self):\n",
    "        print(\"Numero de empleado:\", self.numero_empleado,\n",
    "              \", Nombre completo del empleado:\",self.nombre_completo, \n",
    "              \", Antiguedad:\", self.antiguedad , \"Años\", \n",
    "              )\n",
    "    def disponibles(self):\n",
    "        if self.antiguedad == 1:\n",
    "           return 10  \n",
    "        elif self.antiguedad == 2:\n",
    "            return 15\n",
    "        elif self.antiguedad == 3:\n",
    "            return 20\n",
    "        elif self.antiguedad >= 4:\n",
    "            return 30\n",
    "        else:\n",
    "             return \"El empleado debe tener al menos 1 año de antigüedad\""
   ]
  },
  {
   "cell_type": "code",
   "execution_count": 152,
   "id": "5feb4acd-73df-426c-aafc-07eeb766e228",
   "metadata": {},
   "outputs": [],
   "source": [
    "empleado1 = Empleado(450,\"Calatino Evaristo Maradiaga de la Veracruz\", 1 )"
   ]
  },
  {
   "cell_type": "code",
   "execution_count": 153,
   "id": "8132a9dc-85fd-40f7-a12a-297646c6787b",
   "metadata": {},
   "outputs": [
    {
     "name": "stdout",
     "output_type": "stream",
     "text": [
      "Numero de empleado: 450 , Nombre completo del empleado: Calatino Evaristo Maradiaga de la Veracruz , Antiguedad: 1 Años\n"
     ]
    }
   ],
   "source": [
    "empleado1.informacion()"
   ]
  },
  {
   "cell_type": "code",
   "execution_count": 154,
   "id": "a7468680-c108-44f9-9235-bf9d72ec79dc",
   "metadata": {},
   "outputs": [
    {
     "data": {
      "text/plain": [
       "10"
      ]
     },
     "execution_count": 154,
     "metadata": {},
     "output_type": "execute_result"
    }
   ],
   "source": [
    "empleado1.disponibles()"
   ]
  },
  {
   "cell_type": "code",
   "execution_count": 155,
   "id": "12526031-9f0f-4b3c-a891-335a44f650bc",
   "metadata": {},
   "outputs": [],
   "source": [
    "empleado2 = Empleado(500,\"Obdulio Nepomuseno Fernandez Sobolio\", 2 )"
   ]
  },
  {
   "cell_type": "code",
   "execution_count": 156,
   "id": "7095afab-3e36-4db6-a07c-72d852c30fd5",
   "metadata": {},
   "outputs": [
    {
     "name": "stdout",
     "output_type": "stream",
     "text": [
      "Numero de empleado: 500 , Nombre completo del empleado: Obdulio Nepomuseno Fernandez Sobolio , Antiguedad: 2 Años\n"
     ]
    }
   ],
   "source": [
    "empleado2.informacion()"
   ]
  },
  {
   "cell_type": "code",
   "execution_count": 157,
   "id": "3b5ed252-db85-4484-989a-0e23eb893ba8",
   "metadata": {},
   "outputs": [
    {
     "data": {
      "text/plain": [
       "15"
      ]
     },
     "execution_count": 157,
     "metadata": {},
     "output_type": "execute_result"
    }
   ],
   "source": [
    "empleado2.disponibles()"
   ]
  },
  {
   "cell_type": "code",
   "execution_count": 158,
   "id": "0c26e2f1-ecad-4a63-8290-bcd3037f6f4c",
   "metadata": {},
   "outputs": [],
   "source": [
    "empleado3 = Empleado(700,\"Petronicio Juveli Sanchez Perez\", 3 )"
   ]
  },
  {
   "cell_type": "code",
   "execution_count": 159,
   "id": "0171291a-0205-4e87-a38f-3c0bdbc9534e",
   "metadata": {},
   "outputs": [
    {
     "name": "stdout",
     "output_type": "stream",
     "text": [
      "Numero de empleado: 700 , Nombre completo del empleado: Petronicio Juveli Sanchez Perez , Antiguedad: 3 Años\n"
     ]
    }
   ],
   "source": [
    "empleado3.informacion()"
   ]
  },
  {
   "cell_type": "code",
   "execution_count": 160,
   "id": "84758cd7-0f76-4711-bde3-08e11940bffa",
   "metadata": {},
   "outputs": [
    {
     "data": {
      "text/plain": [
       "20"
      ]
     },
     "execution_count": 160,
     "metadata": {},
     "output_type": "execute_result"
    }
   ],
   "source": [
    "empleado3.disponibles()"
   ]
  },
  {
   "cell_type": "code",
   "execution_count": 161,
   "id": "481c3ed3-3c75-460e-9053-000567bd532b",
   "metadata": {},
   "outputs": [],
   "source": [
    "empleado4 = Empleado(300,\"Dumbulo Bubluchu Guiti Ramirez\", 4 )"
   ]
  },
  {
   "cell_type": "code",
   "execution_count": 162,
   "id": "cfbae428-46a1-479f-8961-c0baea6adb22",
   "metadata": {},
   "outputs": [
    {
     "name": "stdout",
     "output_type": "stream",
     "text": [
      "Numero de empleado: 300 , Nombre completo del empleado: Dumbulo Bubluchu Guiti Ramirez , Antiguedad: 4 Años\n"
     ]
    }
   ],
   "source": [
    "empleado4.informacion()"
   ]
  },
  {
   "cell_type": "code",
   "execution_count": 163,
   "id": "36c0db58-baf0-4d69-95b7-f27c1aada6e6",
   "metadata": {},
   "outputs": [
    {
     "data": {
      "text/plain": [
       "30"
      ]
     },
     "execution_count": 163,
     "metadata": {},
     "output_type": "execute_result"
    }
   ],
   "source": [
    "empleado4.disponibles()"
   ]
  },
  {
   "cell_type": "code",
   "execution_count": 164,
   "id": "28dca862-89d8-4403-a078-fc7b4eb8c4f6",
   "metadata": {},
   "outputs": [],
   "source": [
    "empleado4 = Empleado(900,\"Rambo Daddy Jankee Huberto Ramirez de la cruz\", 0.5 )"
   ]
  },
  {
   "cell_type": "code",
   "execution_count": 165,
   "id": "f0ff392e-c133-4a6a-b188-d8472f2441e9",
   "metadata": {},
   "outputs": [
    {
     "name": "stdout",
     "output_type": "stream",
     "text": [
      "Numero de empleado: 900 , Nombre completo del empleado: Rambo Daddy Jankee Huberto Ramirez de la cruz , Antiguedad: 0.5 Años\n"
     ]
    }
   ],
   "source": [
    "empleado4.informacion()"
   ]
  },
  {
   "cell_type": "code",
   "execution_count": 166,
   "id": "6230c67d-8bc6-4742-a17a-8182372683a8",
   "metadata": {},
   "outputs": [
    {
     "data": {
      "text/plain": [
       "'El empleado debe tener al menos 1 año de antigüedad'"
      ]
     },
     "execution_count": 166,
     "metadata": {},
     "output_type": "execute_result"
    }
   ],
   "source": [
    "empleado4.disponibles()"
   ]
  },
  {
   "cell_type": "code",
   "execution_count": null,
   "id": "132a9937-942c-4971-be48-f35a2512dda6",
   "metadata": {},
   "outputs": [],
   "source": []
  }
 ],
 "metadata": {
  "kernelspec": {
   "display_name": "Python 3 (ipykernel)",
   "language": "python",
   "name": "python3"
  },
  "language_info": {
   "codemirror_mode": {
    "name": "ipython",
    "version": 3
   },
   "file_extension": ".py",
   "mimetype": "text/x-python",
   "name": "python",
   "nbconvert_exporter": "python",
   "pygments_lexer": "ipython3",
   "version": "3.11.7"
  }
 },
 "nbformat": 4,
 "nbformat_minor": 5
}
