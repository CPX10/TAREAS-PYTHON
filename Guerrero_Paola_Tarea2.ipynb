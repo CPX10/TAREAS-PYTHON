{
 "cells": [
  {
   "cell_type": "code",
   "execution_count": 19,
   "id": "1bd459fb-3a55-40e8-a6ba-3992365b7463",
   "metadata": {},
   "outputs": [],
   "source": [
    "x = \"Paola\""
   ]
  },
  {
   "cell_type": "code",
   "execution_count": 20,
   "id": "62e256d1-52ef-4b32-b34f-db203178b374",
   "metadata": {},
   "outputs": [
    {
     "data": {
      "text/plain": [
       "'Paola'"
      ]
     },
     "execution_count": 20,
     "metadata": {},
     "output_type": "execute_result"
    }
   ],
   "source": [
    "x"
   ]
  },
  {
   "cell_type": "code",
   "execution_count": 21,
   "id": "dd19082a-ca24-47a7-b132-e569d9caa700",
   "metadata": {},
   "outputs": [
    {
     "data": {
      "text/plain": [
       "str"
      ]
     },
     "execution_count": 21,
     "metadata": {},
     "output_type": "execute_result"
    }
   ],
   "source": [
    "type(x)"
   ]
  },
  {
   "cell_type": "code",
   "execution_count": 23,
   "id": "85701feb-11f8-49a2-a4af-3b9283727e7f",
   "metadata": {},
   "outputs": [
    {
     "data": {
      "text/plain": [
       "int"
      ]
     },
     "execution_count": 23,
     "metadata": {},
     "output_type": "execute_result"
    }
   ],
   "source": [
    "z = 25\n",
    "\n",
    "z\n",
    "type(z)"
   ]
  },
  {
   "cell_type": "code",
   "execution_count": 25,
   "id": "d99e70df-0f55-4620-ae00-52f04d362a8c",
   "metadata": {},
   "outputs": [
    {
     "data": {
      "text/plain": [
       "625"
      ]
     },
     "execution_count": 25,
     "metadata": {},
     "output_type": "execute_result"
    }
   ],
   "source": [
    "y = z*25\n",
    "\n",
    "y"
   ]
  },
  {
   "cell_type": "code",
   "execution_count": 26,
   "id": "77940091-85f9-40e8-9543-3197ce677343",
   "metadata": {},
   "outputs": [
    {
     "name": "stdout",
     "output_type": "stream",
     "text": [
      "Paola\n"
     ]
    }
   ],
   "source": [
    "print(x)"
   ]
  },
  {
   "cell_type": "code",
   "execution_count": 27,
   "id": "9154e7f4-3ce7-4a66-affb-2fa4393ba8eb",
   "metadata": {},
   "outputs": [
    {
     "name": "stdin",
     "output_type": "stream",
     "text": [
      "ingrese valor 5\n"
     ]
    },
    {
     "data": {
      "text/plain": [
       "'5'"
      ]
     },
     "execution_count": 27,
     "metadata": {},
     "output_type": "execute_result"
    }
   ],
   "source": [
    "input(\"ingrese valor\")"
   ]
  },
  {
   "cell_type": "code",
   "execution_count": 28,
   "id": "3ed99e16-7569-4b18-a14b-38bd1c8f9fdf",
   "metadata": {},
   "outputs": [
    {
     "name": "stdin",
     "output_type": "stream",
     "text": [
      "nombre Paola\n",
      "apellido Guerrero\n"
     ]
    }
   ],
   "source": [
    "nombre = input(\"nombre\")\n",
    "apellido = input(\"apellido\")\n"
   ]
  },
  {
   "cell_type": "code",
   "execution_count": 31,
   "id": "c59b5d34-0f33-49ae-afc7-88b9556684bb",
   "metadata": {},
   "outputs": [
    {
     "name": "stdout",
     "output_type": "stream",
     "text": [
      "Bienvenido Paola Guerrero\n"
     ]
    }
   ],
   "source": [
    "print(\"Bienvenido\"+\" \"+nombre +\" \"+apellido)"
   ]
  },
  {
   "cell_type": "code",
   "execution_count": null,
   "id": "1df98398-9387-4b7c-847d-ab12143666fa",
   "metadata": {},
   "outputs": [],
   "source": []
  }
 ],
 "metadata": {
  "kernelspec": {
   "display_name": "Python 3 (ipykernel)",
   "language": "python",
   "name": "python3"
  },
  "language_info": {
   "codemirror_mode": {
    "name": "ipython",
    "version": 3
   },
   "file_extension": ".py",
   "mimetype": "text/x-python",
   "name": "python",
   "nbconvert_exporter": "python",
   "pygments_lexer": "ipython3",
   "version": "3.11.7"
  }
 },
 "nbformat": 4,
 "nbformat_minor": 5
}
