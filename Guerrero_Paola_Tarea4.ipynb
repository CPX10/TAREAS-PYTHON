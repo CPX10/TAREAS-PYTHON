{
 "cells": [
  {
   "cell_type": "markdown",
   "id": "500b1a3f-b5fc-4f92-adf0-e85d5d567e8c",
   "metadata": {},
   "source": [
    "# CONDICIONAMIENTO SIMPLE\n"
   ]
  },
  {
   "cell_type": "markdown",
   "id": "31bed9d3-4393-4ce3-95a4-6d2a07c7c08f",
   "metadata": {},
   "source": [
    "CON CIFRAS\n"
   ]
  },
  {
   "cell_type": "code",
   "execution_count": 18,
   "id": "0fa215da-3642-4623-80f6-25bb615308ca",
   "metadata": {},
   "outputs": [
    {
     "name": "stdin",
     "output_type": "stream",
     "text": [
      "Ingrese un numero 5\n"
     ]
    },
    {
     "name": "stdout",
     "output_type": "stream",
     "text": [
      "ES IMPAR\n"
     ]
    }
   ],
   "source": [
    "numero= int(input(\"Ingrese un numero\"))\n",
    "\n",
    "if numero == 0:\n",
    "    print(\"Es cero\")\n",
    "else:\n",
    "    if numero % 2 == 0:\n",
    "        print(\"ES PAR\")\n",
    "    else:\n",
    "        print(\"ES IMPAR\")\n",
    "\n"
   ]
  },
  {
   "cell_type": "markdown",
   "id": "6d3efddf-b08c-4443-82ed-6b31bbfb4444",
   "metadata": {},
   "source": [
    "# CONDICIONAMIENTO CON TEXTO\n"
   ]
  },
  {
   "cell_type": "code",
   "execution_count": 24,
   "id": "e5e0a39a-620a-4adb-9862-a46dff52d8fb",
   "metadata": {},
   "outputs": [
    {
     "name": "stdin",
     "output_type": "stream",
     "text": [
      "Ingrese su usuario Admin\n",
      "Ingrese su clave 123456\n"
     ]
    },
    {
     "name": "stdout",
     "output_type": "stream",
     "text": [
      "bienvenido administrador\n"
     ]
    }
   ],
   "source": [
    "usuario = input(\"Ingrese su usuario\").lower()\n",
    "clave = input(\"Ingrese su clave\")\n",
    "\n",
    "if usuario == \"admin\":\n",
    "    print(\"bienvenido administrador\")"
   ]
  },
  {
   "cell_type": "code",
   "execution_count": 20,
   "id": "836e4fc0-0d25-487a-bb2e-6598a4cf54c9",
   "metadata": {},
   "outputs": [
    {
     "data": {
      "text/plain": [
       "'admin'"
      ]
     },
     "execution_count": 20,
     "metadata": {},
     "output_type": "execute_result"
    }
   ],
   "source": [
    "usuario\n"
   ]
  },
  {
   "cell_type": "code",
   "execution_count": 21,
   "id": "7448529f-8d33-4250-afe9-1fb397686daf",
   "metadata": {},
   "outputs": [
    {
     "data": {
      "text/plain": [
       "'123456'"
      ]
     },
     "execution_count": 21,
     "metadata": {},
     "output_type": "execute_result"
    }
   ],
   "source": [
    "clave"
   ]
  },
  {
   "cell_type": "markdown",
   "id": "bdd56b09-b5d7-4064-bfee-3f5a1de74e09",
   "metadata": {},
   "source": [
    "# CONDICIONES COMPUESTAS CON AND Y OR"
   ]
  },
  {
   "cell_type": "code",
   "execution_count": 27,
   "id": "f8a192f0-d453-4fda-aca7-8c3dab73c495",
   "metadata": {},
   "outputs": [
    {
     "name": "stdin",
     "output_type": "stream",
     "text": [
      "Ingrese su usuario admind\n",
      "Ingrese su clave pass123#\n"
     ]
    },
    {
     "name": "stdout",
     "output_type": "stream",
     "text": [
      "usuario o clave incorrecta\n"
     ]
    }
   ],
   "source": [
    "usuario = input(\"Ingrese su usuario\").lower()\n",
    "clave = input(\"Ingrese su clave\")\n",
    "\n",
    "if usuario == \"admin\" and clave == \"pass123#\":\n",
    "    print(\"bienvenido administrador\")\n",
    "else:\n",
    "    print(\"usuario o clave incorrecta\")"
   ]
  },
  {
   "cell_type": "markdown",
   "id": "5db3f7be-255f-4f83-864e-f8fa8bb00b87",
   "metadata": {},
   "source": [
    "# CONDICIONAMIENTO EN LISTAS\n"
   ]
  },
  {
   "cell_type": "code",
   "execution_count": 32,
   "id": "2afe8595-dd1d-488a-8cc1-ae90613ce582",
   "metadata": {},
   "outputs": [
    {
     "name": "stdin",
     "output_type": "stream",
     "text": [
      "Ingrese la cantidad de almacenamiento que quieres 2TB\n"
     ]
    },
    {
     "name": "stdout",
     "output_type": "stream",
     "text": [
      "Lo tenemos disponible\n"
     ]
    }
   ],
   "source": [
    "discos = ['250GB', '1TB', '2TB', '500GB']\n",
    "\n",
    "discoSolicitado = input('Ingrese la cantidad de almacenamiento que quieres')\n",
    "\n",
    "if discoSolicitado in discos:\n",
    "    print(\"Lo tenemos disponible\")\n",
    "else:\n",
    "    print(\"lamentablemente no lo tenemos en existencia\")"
   ]
  },
  {
   "cell_type": "code",
   "execution_count": 29,
   "id": "04b0ac37-c4e9-49ab-bc56-ae7d9a046570",
   "metadata": {},
   "outputs": [
    {
     "data": {
      "text/plain": [
       "'3TB'"
      ]
     },
     "execution_count": 29,
     "metadata": {},
     "output_type": "execute_result"
    }
   ],
   "source": [
    "cotizarDisco"
   ]
  },
  {
   "cell_type": "markdown",
   "id": "af060ae6-cb68-456c-b568-ee35afa36c53",
   "metadata": {},
   "source": [
    "# CONTROL DE ERRORES\n"
   ]
  },
  {
   "cell_type": "code",
   "execution_count": 37,
   "id": "7121a56d-b25b-4b20-9b3d-9519479d1ac3",
   "metadata": {},
   "outputs": [
    {
     "name": "stdin",
     "output_type": "stream",
     "text": [
      "Ingrese su edad:  22\n"
     ]
    },
    {
     "name": "stdout",
     "output_type": "stream",
     "text": [
      "Edad Aceptada\n"
     ]
    }
   ],
   "source": [
    "try:\n",
    "    edad = int(input(\"Ingrese su edad: \"))\n",
    "    \n",
    "    if edad >= 0:\n",
    "        print(\"Edad Aceptada\")\n",
    "    else:\n",
    "        print(\"Edad Denegada, no puede ser una edad negativa\")\n",
    "except ValueError:\n",
    "    print(\"Ha ingresado un dato que no es permitido, debe de ingresar cifras\")"
   ]
  },
  {
   "cell_type": "code",
   "execution_count": null,
   "id": "de4ee254-abfe-4e20-84b0-a6a3c84963d5",
   "metadata": {},
   "outputs": [],
   "source": []
  }
 ],
 "metadata": {
  "kernelspec": {
   "display_name": "Python 3 (ipykernel)",
   "language": "python",
   "name": "python3"
  },
  "language_info": {
   "codemirror_mode": {
    "name": "ipython",
    "version": 3
   },
   "file_extension": ".py",
   "mimetype": "text/x-python",
   "name": "python",
   "nbconvert_exporter": "python",
   "pygments_lexer": "ipython3",
   "version": "3.11.7"
  }
 },
 "nbformat": 4,
 "nbformat_minor": 5
}
