{
 "cells": [
  {
   "cell_type": "markdown",
   "id": "3d30dae6-d63f-481d-b397-8c632b122513",
   "metadata": {},
   "source": [
    "# FUNCIONES\n"
   ]
  },
  {
   "cell_type": "code",
   "execution_count": 4,
   "id": "a9cd7af0-aa90-4caf-9a36-5ae93243216a",
   "metadata": {},
   "outputs": [],
   "source": [
    "def saludar():\n",
    "    print(\"hola\")"
   ]
  },
  {
   "cell_type": "code",
   "execution_count": 5,
   "id": "227b795a-7ea8-49f9-9880-339a21cc2fdc",
   "metadata": {},
   "outputs": [
    {
     "name": "stdout",
     "output_type": "stream",
     "text": [
      "hola\n"
     ]
    }
   ],
   "source": [
    "saludar()"
   ]
  },
  {
   "cell_type": "code",
   "execution_count": 6,
   "id": "dbddde46-2128-4926-a167-e740dbebb33c",
   "metadata": {},
   "outputs": [],
   "source": [
    "def saludar_persona(nombre):\n",
    "    print(\"Bienvenido\", nombre)"
   ]
  },
  {
   "cell_type": "code",
   "execution_count": 7,
   "id": "9d0738de-6f9d-4c4c-8d88-8f51f4a2c27c",
   "metadata": {},
   "outputs": [
    {
     "name": "stdout",
     "output_type": "stream",
     "text": [
      "Bienvenido Paola\n"
     ]
    }
   ],
   "source": [
    "saludar_persona(\"Paola\")"
   ]
  },
  {
   "cell_type": "code",
   "execution_count": 8,
   "id": "3057fcf4-a678-4776-8774-83eee9d7c029",
   "metadata": {},
   "outputs": [
    {
     "name": "stdin",
     "output_type": "stream",
     "text": [
      "Ingrese su primer apellido Guerrero\n"
     ]
    }
   ],
   "source": [
    "apellido = input(\"Ingrese su primer apellido\")"
   ]
  },
  {
   "cell_type": "code",
   "execution_count": 9,
   "id": "0ce8f2df-9191-46d7-9665-9ee5d4623cac",
   "metadata": {},
   "outputs": [
    {
     "data": {
      "text/plain": [
       "'Guerrero'"
      ]
     },
     "execution_count": 9,
     "metadata": {},
     "output_type": "execute_result"
    }
   ],
   "source": [
    "apellido"
   ]
  },
  {
   "cell_type": "code",
   "execution_count": 10,
   "id": "9df932c8-5b4f-48d2-9412-38783c35f6ef",
   "metadata": {},
   "outputs": [
    {
     "name": "stdout",
     "output_type": "stream",
     "text": [
      "Bienvenido Guerrero\n"
     ]
    }
   ],
   "source": [
    "saludar_persona(apellido)"
   ]
  },
  {
   "cell_type": "markdown",
   "id": "a319fc8c-7140-4527-9dc8-afc5559cb106",
   "metadata": {},
   "source": [
    "# RETURN"
   ]
  },
  {
   "cell_type": "code",
   "execution_count": 11,
   "id": "cae7a46a-1e8f-40af-aa3e-2b9d90fab4df",
   "metadata": {},
   "outputs": [],
   "source": [
    "def calculo_volumen(largo,ancho,altura):\n",
    "    return largo*ancho*altura"
   ]
  },
  {
   "cell_type": "code",
   "execution_count": 12,
   "id": "83d47169-d078-42c3-81d1-8295877e8523",
   "metadata": {},
   "outputs": [
    {
     "data": {
      "text/plain": [
       "16"
      ]
     },
     "execution_count": 12,
     "metadata": {},
     "output_type": "execute_result"
    }
   ],
   "source": [
    "calculo_volumen(2,4,2)"
   ]
  },
  {
   "cell_type": "code",
   "execution_count": 14,
   "id": "9e82166a-360f-4eb9-9552-8fa4071d58cc",
   "metadata": {},
   "outputs": [
    {
     "data": {
      "text/plain": [
       "3456"
      ]
     },
     "execution_count": 14,
     "metadata": {},
     "output_type": "execute_result"
    }
   ],
   "source": [
    "volumen = calculo_volumen(12,24,12)\n",
    "volumen"
   ]
  },
  {
   "cell_type": "code",
   "execution_count": 15,
   "id": "c611b5c3-8c6a-455c-8c67-6fb8fdbd8dd3",
   "metadata": {},
   "outputs": [
    {
     "name": "stdin",
     "output_type": "stream",
     "text": [
      "Largo 34\n",
      "Ancho 44\n",
      "Altura 21\n"
     ]
    }
   ],
   "source": [
    "lar = int(input(\"Largo\"))\n",
    "anc = int(input(\"Ancho\"))\n",
    "alt= int(input(\"Altura\"))"
   ]
  },
  {
   "cell_type": "code",
   "execution_count": 16,
   "id": "583318aa-ed7a-4c41-8b52-212334e8f242",
   "metadata": {},
   "outputs": [
    {
     "data": {
      "text/plain": [
       "31416"
      ]
     },
     "execution_count": 16,
     "metadata": {},
     "output_type": "execute_result"
    }
   ],
   "source": [
    "calculo_volumen(lar,anc,alt)"
   ]
  },
  {
   "cell_type": "code",
   "execution_count": 17,
   "id": "ecd63186-8135-4a15-90c9-e50a2d5d7da6",
   "metadata": {},
   "outputs": [],
   "source": [
    "def convertir_mayusculas(texto):\n",
    "    return texto.upper()"
   ]
  },
  {
   "cell_type": "code",
   "execution_count": 22,
   "id": "bb4610e7-8d8c-4c80-a915-c08a43398cab",
   "metadata": {},
   "outputs": [
    {
     "name": "stdin",
     "output_type": "stream",
     "text": [
      "Ingrese un texto para convertirlo en mayusculas pAOLA tE salUDa\n"
     ]
    }
   ],
   "source": [
    "cadena_texto = input(\"Ingrese un texto para convertirlo en mayusculas\")"
   ]
  },
  {
   "cell_type": "code",
   "execution_count": 23,
   "id": "c50f053d-5404-4a2b-9c78-686f1397a44e",
   "metadata": {},
   "outputs": [
    {
     "data": {
      "text/plain": [
       "'pAOLA tE salUDa'"
      ]
     },
     "execution_count": 23,
     "metadata": {},
     "output_type": "execute_result"
    }
   ],
   "source": [
    "cadena_texto"
   ]
  },
  {
   "cell_type": "code",
   "execution_count": 26,
   "id": "0c7672d6-24b6-461f-8b87-cd16cba442cd",
   "metadata": {},
   "outputs": [
    {
     "data": {
      "text/plain": [
       "'PAOLA TE SALUDA'"
      ]
     },
     "execution_count": 26,
     "metadata": {},
     "output_type": "execute_result"
    }
   ],
   "source": [
    "convertir_mayusculas(cadena_texto)"
   ]
  },
  {
   "cell_type": "code",
   "execution_count": 27,
   "id": "8744a365-8c0f-4bb8-9dff-a602bfaa52ec",
   "metadata": {},
   "outputs": [
    {
     "data": {
      "text/plain": [
       "'QUE BONITO ES PYTHON'"
      ]
     },
     "execution_count": 27,
     "metadata": {},
     "output_type": "execute_result"
    }
   ],
   "source": [
    "convertir_mayusculas(\"que bonito es python\")"
   ]
  },
  {
   "cell_type": "code",
   "execution_count": null,
   "id": "26235ad6-24af-4352-a419-f9d418bf759d",
   "metadata": {},
   "outputs": [],
   "source": []
  }
 ],
 "metadata": {
  "kernelspec": {
   "display_name": "Python 3 (ipykernel)",
   "language": "python",
   "name": "python3"
  },
  "language_info": {
   "codemirror_mode": {
    "name": "ipython",
    "version": 3
   },
   "file_extension": ".py",
   "mimetype": "text/x-python",
   "name": "python",
   "nbconvert_exporter": "python",
   "pygments_lexer": "ipython3",
   "version": "3.11.7"
  }
 },
 "nbformat": 4,
 "nbformat_minor": 5
}
