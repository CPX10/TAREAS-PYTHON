{
 "cells": [
  {
   "cell_type": "markdown",
   "id": "a624699d-9fd2-472c-8a69-ffb1f8b2a7e8",
   "metadata": {},
   "source": [
    "# CLAVE SEGURA"
   ]
  },
  {
   "cell_type": "code",
   "execution_count": 12,
   "id": "3cc88d65-4f9b-4480-89e4-a90560b776e5",
   "metadata": {},
   "outputs": [
    {
     "name": "stdin",
     "output_type": "stream",
     "text": [
      "Ingresa clave para validar si es segura aJANJaknd54@\n"
     ]
    },
    {
     "name": "stdout",
     "output_type": "stream",
     "text": [
      "clave segura\n"
     ]
    }
   ],
   "source": [
    "import re\n",
    "\n",
    "def clave_segura(clave):\n",
    "    return len(clave)>= 8 \\\n",
    "    and any(\n",
    "        char.isdigit()\n",
    "        for char in clave\n",
    "    )  \\\n",
    "    and any(\n",
    "        char.isupper()\n",
    "        for char in clave\n",
    "    ) \\\n",
    "    and any(\n",
    "        char.islower()\n",
    "        for char in clave\n",
    "    ) \\\n",
    "    and bool(\n",
    "        re.search(\"[@#$%]\",clave)\n",
    "    )\n",
    "    \n",
    "\n",
    "\n",
    "texto_captura = input(\"Ingresa clave para validar si es segura\")\n",
    "\n",
    "if clave_segura(texto_captura):\n",
    "    print(\"clave segura\")\n",
    "else:\n",
    "    print(\"clave insegura\")"
   ]
  },
  {
   "cell_type": "code",
   "execution_count": null,
   "id": "56959d06-648b-4041-8ab9-71a302a81c12",
   "metadata": {},
   "outputs": [],
   "source": []
  }
 ],
 "metadata": {
  "kernelspec": {
   "display_name": "Python 3 (ipykernel)",
   "language": "python",
   "name": "python3"
  },
  "language_info": {
   "codemirror_mode": {
    "name": "ipython",
    "version": 3
   },
   "file_extension": ".py",
   "mimetype": "text/x-python",
   "name": "python",
   "nbconvert_exporter": "python",
   "pygments_lexer": "ipython3",
   "version": "3.11.7"
  }
 },
 "nbformat": 4,
 "nbformat_minor": 5
}
