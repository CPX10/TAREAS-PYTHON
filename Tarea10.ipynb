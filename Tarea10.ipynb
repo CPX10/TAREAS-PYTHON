{
 "cells": [
  {
   "cell_type": "markdown",
   "id": "0f4c98d2-f76b-4f0d-9bf3-cd935f57fe31",
   "metadata": {},
   "source": [
    "# CLASES\n"
   ]
  },
  {
   "cell_type": "code",
   "execution_count": 13,
   "id": "4edfbf69-fdd9-45da-9ce3-4e801145af61",
   "metadata": {},
   "outputs": [],
   "source": [
    "class Cliente:\n",
    "    def __init__(self, codigo_cliente, antiguedad):\n",
    "        self.codigo_cliente = codigo_cliente\n",
    "        self.antiguedad = antiguedad\n",
    "    def mostrar_info(self):\n",
    "        print(\"Codigo cliente: \", self.codigo_cliente, \"Antiguedad: \", self.antiguedad)\n",
    "    def credito(self):\n",
    "        if float(self.antiguedad)>2:\n",
    "            print(\"Se permite credito al cliente: \", self.codigo_cliente)\n",
    "        else:\n",
    "            print(\"No tiene habilitado el credito aun, cliente numero\", self.codigo_cliente)"
   ]
  },
  {
   "cell_type": "code",
   "execution_count": 18,
   "id": "5feb4acd-73df-426c-aafc-07eeb766e228",
   "metadata": {},
   "outputs": [],
   "source": [
    "cliente1 = Cliente(100, 5)"
   ]
  },
  {
   "cell_type": "code",
   "execution_count": 19,
   "id": "8132a9dc-85fd-40f7-a12a-297646c6787b",
   "metadata": {},
   "outputs": [
    {
     "name": "stdout",
     "output_type": "stream",
     "text": [
      "Codigo cliente:  100 Antiguedad:  5\n"
     ]
    }
   ],
   "source": [
    "cliente1.mostrar_info()"
   ]
  },
  {
   "cell_type": "code",
   "execution_count": 20,
   "id": "a7468680-c108-44f9-9235-bf9d72ec79dc",
   "metadata": {},
   "outputs": [
    {
     "name": "stdout",
     "output_type": "stream",
     "text": [
      "Se permite credito al cliente:  100\n"
     ]
    }
   ],
   "source": [
    "cliente1.credito()"
   ]
  },
  {
   "cell_type": "code",
   "execution_count": 21,
   "id": "9e794b63-ea1a-4eed-86e2-dc9bbbd517bc",
   "metadata": {},
   "outputs": [],
   "source": [
    "cliente2 = Cliente(101,1)"
   ]
  },
  {
   "cell_type": "code",
   "execution_count": 23,
   "id": "f3f91e52-5617-4c7d-aa5c-4c9210261afd",
   "metadata": {},
   "outputs": [
    {
     "name": "stdout",
     "output_type": "stream",
     "text": [
      "No tiene habilitado el credito aun, cliente numero 101\n"
     ]
    }
   ],
   "source": [
    "cliente2.credito()"
   ]
  },
  {
   "cell_type": "code",
   "execution_count": null,
   "id": "12526031-9f0f-4b3c-a891-335a44f650bc",
   "metadata": {},
   "outputs": [],
   "source": []
  }
 ],
 "metadata": {
  "kernelspec": {
   "display_name": "Python 3 (ipykernel)",
   "language": "python",
   "name": "python3"
  },
  "language_info": {
   "codemirror_mode": {
    "name": "ipython",
    "version": 3
   },
   "file_extension": ".py",
   "mimetype": "text/x-python",
   "name": "python",
   "nbconvert_exporter": "python",
   "pygments_lexer": "ipython3",
   "version": "3.11.7"
  }
 },
 "nbformat": 4,
 "nbformat_minor": 5
}
