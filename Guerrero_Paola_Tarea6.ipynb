{
 "cells": [
  {
   "cell_type": "markdown",
   "id": "eeb2acc6-e8c0-4d05-80ac-39c6f1ab9fc4",
   "metadata": {},
   "source": [
    "# CICLO FOR\n"
   ]
  },
  {
   "cell_type": "code",
   "execution_count": 1,
   "id": "7e7edf19-e283-4484-9b6c-17c5ae081c34",
   "metadata": {},
   "outputs": [
    {
     "name": "stdout",
     "output_type": "stream",
     "text": [
      "Iteracion:  0\n",
      "Iteracion:  1\n",
      "Iteracion:  2\n",
      "Iteracion:  3\n",
      "Iteracion:  4\n",
      "Iteracion:  5\n"
     ]
    }
   ],
   "source": [
    "for i in range(6):\n",
    "    print(\"Iteracion: \", i)"
   ]
  },
  {
   "cell_type": "code",
   "execution_count": 3,
   "id": "651ccd08-f53b-4dc9-94c0-8f89cf3c7eb6",
   "metadata": {},
   "outputs": [
    {
     "name": "stdout",
     "output_type": "stream",
     "text": [
      "Iteracion:  0\n",
      "Iteracion:  1\n",
      "Iteracion:  2\n",
      "Iteracion:  3\n",
      "Iteracion:  4\n",
      "Iteracion:  5\n"
     ]
    }
   ],
   "source": [
    "num = 6\n",
    "\n",
    "for i in range(num):\n",
    "    print(\"Iteracion: \", i)"
   ]
  },
  {
   "cell_type": "code",
   "execution_count": 2,
   "id": "1d350d90-60ae-4b5c-b96d-0c05a3fcfe31",
   "metadata": {},
   "outputs": [
    {
     "data": {
      "text/plain": [
       "[200, 300, 400, 250, 345, 540]"
      ]
     },
     "execution_count": 2,
     "metadata": {},
     "output_type": "execute_result"
    }
   ],
   "source": [
    "columna = [200, 300, 400, 250, 345, 540]\n",
    "columna"
   ]
  },
  {
   "cell_type": "code",
   "execution_count": 4,
   "id": "5130be7d-2930-42d3-8421-792be624dbf1",
   "metadata": {},
   "outputs": [
    {
     "name": "stdout",
     "output_type": "stream",
     "text": [
      "200\n",
      "300\n",
      "400\n",
      "250\n",
      "345\n",
      "540\n"
     ]
    }
   ],
   "source": [
    "for valor in columna:\n",
    "    print(valor)"
   ]
  },
  {
   "cell_type": "code",
   "execution_count": 13,
   "id": "8f3a5abb-bd50-4580-90e1-9191303017da",
   "metadata": {},
   "outputs": [
    {
     "data": {
      "text/plain": [
       "['Ancho', 'Alto', 'Largo']"
      ]
     },
     "execution_count": 13,
     "metadata": {},
     "output_type": "execute_result"
    }
   ],
   "source": [
    "medidas = [\"Ancho\", \"Alto\", \"Largo\"]\n",
    "medidas"
   ]
  },
  {
   "cell_type": "code",
   "execution_count": 17,
   "id": "05035099-e77a-4ffe-b9ce-0bd2397263eb",
   "metadata": {},
   "outputs": [
    {
     "name": "stdout",
     "output_type": "stream",
     "text": [
      "0\n",
      "Ancho\n",
      "1\n",
      "Alto\n",
      "2\n",
      "Largo\n"
     ]
    }
   ],
   "source": [
    "for i in range(len(medidas)):\n",
    "    print(i)\n",
    "    print(medidas[i])"
   ]
  },
  {
   "cell_type": "code",
   "execution_count": 11,
   "id": "3fe88f01-d173-49e3-9b4c-dad57c668362",
   "metadata": {},
   "outputs": [
    {
     "name": "stdout",
     "output_type": "stream",
     "text": [
      "Ancho\n",
      "Alto\n",
      "Largo\n"
     ]
    }
   ],
   "source": [
    "for i in medidas:\n",
    "    print(i)"
   ]
  },
  {
   "cell_type": "code",
   "execution_count": 25,
   "id": "74575b67-1a9f-4541-8b86-9356c6118bc6",
   "metadata": {},
   "outputs": [
    {
     "name": "stdout",
     "output_type": "stream",
     "text": [
      "Ancho\n"
     ]
    },
    {
     "name": "stdin",
     "output_type": "stream",
     "text": [
      " 2\n"
     ]
    },
    {
     "name": "stdout",
     "output_type": "stream",
     "text": [
      "Alto\n"
     ]
    },
    {
     "name": "stdin",
     "output_type": "stream",
     "text": [
      " 3\n"
     ]
    },
    {
     "name": "stdout",
     "output_type": "stream",
     "text": [
      "Largo\n"
     ]
    },
    {
     "name": "stdin",
     "output_type": "stream",
     "text": [
      " 4\n"
     ]
    }
   ],
   "source": [
    "valores = []\n",
    "\n",
    "for i in range( len(medidas) ):\n",
    "    print(medidas[i])\n",
    "    valores.append(int(input()))"
   ]
  },
  {
   "cell_type": "code",
   "execution_count": 26,
   "id": "0a0a0a4d-fd77-48fd-ba07-7fa10322286c",
   "metadata": {},
   "outputs": [
    {
     "data": {
      "text/plain": [
       "[2, 3, 4]"
      ]
     },
     "execution_count": 26,
     "metadata": {},
     "output_type": "execute_result"
    }
   ],
   "source": [
    "valores\n"
   ]
  },
  {
   "cell_type": "code",
   "execution_count": 29,
   "id": "ec6097a9-32ca-4647-8718-9154ab31f357",
   "metadata": {},
   "outputs": [
    {
     "data": {
      "text/plain": [
       "24"
      ]
     },
     "execution_count": 29,
     "metadata": {},
     "output_type": "execute_result"
    }
   ],
   "source": [
    "#calculo de volumen\n",
    "\n",
    "resultado = 1\n",
    "\n",
    "for valor in valores:\n",
    "    resultado *= valor\n",
    "\n",
    "resultado\n"
   ]
  },
  {
   "cell_type": "code",
   "execution_count": null,
   "id": "c6e67b69-d409-4db4-8fd7-7e76af6c93e5",
   "metadata": {},
   "outputs": [],
   "source": []
  }
 ],
 "metadata": {
  "kernelspec": {
   "display_name": "Python 3 (ipykernel)",
   "language": "python",
   "name": "python3"
  },
  "language_info": {
   "codemirror_mode": {
    "name": "ipython",
    "version": 3
   },
   "file_extension": ".py",
   "mimetype": "text/x-python",
   "name": "python",
   "nbconvert_exporter": "python",
   "pygments_lexer": "ipython3",
   "version": "3.11.7"
  }
 },
 "nbformat": 4,
 "nbformat_minor": 5
}
